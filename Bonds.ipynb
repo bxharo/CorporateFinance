{
 "cells": [
  {
   "cell_type": "code",
   "execution_count": 6,
   "id": "3323ef52-617f-4388-b8d2-e818565d102e",
   "metadata": {},
   "outputs": [],
   "source": [
    "import numpy as np\n",
    "import pandas as pd\n",
    "import matplotlib.pyplot as plt\n",
    "from scipy.optimize import fsolve"
   ]
  },
  {
   "cell_type": "markdown",
   "id": "d758e446-5276-44f6-9557-8be2980b45bf",
   "metadata": {},
   "source": [
    "A government bond is priced at 105%. \n",
    "Is the yield to maturity higher or lower than the coupon rate?"
   ]
  },
  {
   "cell_type": "markdown",
   "id": "c95028ab-f8c0-4503-9c50-e84df193943a",
   "metadata": {},
   "source": [
    "# 3.2 Self-Test\n",
    "A one-year U.S. Treasury bond has a coupon rate of 10%.  \n",
    "a. What are the cash flows on this bond?  \n",
    "b. The bond’s yield to maturity is 6%. What is the present value of the bond?  \n",
    "c. If the yield to maturity is 6%, what return do you earn every 6 months? d. What is the bond’s effective annual rate of return?"
   ]
  },
  {
   "cell_type": "code",
   "execution_count": 31,
   "id": "590b643d-2887-4d91-8974-4fead81dc1cd",
   "metadata": {},
   "outputs": [
    {
     "name": "stdout",
     "output_type": "stream",
     "text": [
      "The cashflow is: $ 50.0  and $ 1050.0\n",
      "The present value of the treasury bond is: $ 1,038.27\n",
      "The return i earn every 6 months is  3.0 %\n",
      "The bond effective annual rate of return is 6.09 %\n"
     ]
    }
   ],
   "source": [
    "#Usually the U.S Treasury bonds coupons are payed twice a year, semiannualy\n",
    "t = 1  #years to mature\n",
    "n = 2  #periods of payment\n",
    "F = 1000  #face value\n",
    "C = 0.10*F/2  #coupon value\n",
    "y = 0.06\n",
    "\n",
    "print(\"The cashflow is: $\", C ,\" and $\",C + F )\n",
    "\n",
    "def pv_bond(C,F,y,n):\n",
    "    pv = 0\n",
    "    CF = 0\n",
    "    for i in np.arange(1,t*n + 1):\n",
    "        if i< (t*n):\n",
    "            CF = C*(1/(1+y/n))**i\n",
    "        else:\n",
    "             CF = (C+F)*(1/(1+y/n))**i#last cashflow\n",
    "        \n",
    "        pv += CF\n",
    "    \n",
    "    return pv\n",
    "\n",
    "pv_treasury_bond = pv_bond(C,F,y,n)\n",
    "\n",
    "print(\"The present value of the treasury bond is: $\", f\"{pv_treasury_bond:,.2f}\")\n",
    "print(\"The return i earn every 6 months is \", (y/2)*100 , \"%\")\n",
    "print(\"The bond effective annual rate of return is\", f\"{((1+y/2)**n -1)*100:,.2f}\",\"%\")"
   ]
  },
  {
   "cell_type": "markdown",
   "id": "6af8d03c-61e8-47a5-a575-86316aa42936",
   "metadata": {},
   "source": [
    "# 3.3 Self-Test\n",
    "a. Which does not change during the bond’s life—the coupon or the yield?  \n",
    "b. If the yield rises, does the bond price rise or fall?"
   ]
  },
  {
   "cell_type": "markdown",
   "id": "a36df930-2850-452f-a98d-1d28c3fa7075",
   "metadata": {},
   "source": [
    "a. The coupon does not change during the bond's life.  \n",
    "b. If the yield rises the price bond falls."
   ]
  },
  {
   "cell_type": "markdown",
   "id": "4d04ac06-5b9a-402e-aecd-4b8dab058e23",
   "metadata": {},
   "source": [
    "# 3.4 Self-Test\n",
    "If yields decline, which bond is likely to appreciate the most:  \n",
    "a. A 20-year 8% bond or a 5-year 8% bond?  \n",
    "b. A 20-year 8% bond or a 20-year 2% bond?  "
   ]
  },
  {
   "cell_type": "markdown",
   "id": "f844dada-261f-4845-ac6c-057d76970028",
   "metadata": {},
   "source": [
    "a. The 20-year 8% bond has a larger duration so the yield decline has a larger effect on the price\n",
    "\n",
    "b. The 20-year 2% bond has a larger duration so is likely to appreciate the most."
   ]
  },
  {
   "cell_type": "code",
   "execution_count": null,
   "id": "671aebbc-2318-45ec-99f9-4a69340ff37a",
   "metadata": {},
   "outputs": [],
   "source": []
  }
 ],
 "metadata": {
  "kernelspec": {
   "display_name": "Python 3 (ipykernel)",
   "language": "python",
   "name": "python3"
  },
  "language_info": {
   "codemirror_mode": {
    "name": "ipython",
    "version": 3
   },
   "file_extension": ".py",
   "mimetype": "text/x-python",
   "name": "python",
   "nbconvert_exporter": "python",
   "pygments_lexer": "ipython3",
   "version": "3.10.18"
  }
 },
 "nbformat": 4,
 "nbformat_minor": 5
}
