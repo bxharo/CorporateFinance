{
 "cells": [
  {
   "cell_type": "code",
   "execution_count": 13,
   "id": "3323ef52-617f-4388-b8d2-e818565d102e",
   "metadata": {},
   "outputs": [],
   "source": [
    "import numpy as np\n",
    "import pandas as pd\n",
    "import matplotlib.pyplot as plt\n",
    "from scipy.optimize import fsolve"
   ]
  },
  {
   "cell_type": "markdown",
   "id": "d758e446-5276-44f6-9557-8be2980b45bf",
   "metadata": {},
   "source": [
    "A government bond is priced at 105%. \n",
    "Is the yield to maturity higher or lower than the coupon rate?"
   ]
  },
  {
   "cell_type": "markdown",
   "id": "c95028ab-f8c0-4503-9c50-e84df193943a",
   "metadata": {},
   "source": [
    "# 3.2 Self-Test\n",
    "A one-year U.S. Treasury bond has a coupon rate of 10%.  \n",
    "a. What are the cash flows on this bond?  \n",
    "b. The bond’s yield to maturity is 6%. What is the present value of the bond?  \n",
    "c. If the yield to maturity is 6%, what return do you earn every 6 months? d. What is the bond’s effective annual rate of return?"
   ]
  },
  {
   "cell_type": "code",
   "execution_count": 31,
   "id": "590b643d-2887-4d91-8974-4fead81dc1cd",
   "metadata": {},
   "outputs": [
    {
     "name": "stdout",
     "output_type": "stream",
     "text": [
      "The cashflow is: $ 50.0  and $ 1050.0\n",
      "The present value of the treasury bond is: $ 1,038.27\n",
      "The return i earn every 6 months is  3.0 %\n",
      "The bond effective annual rate of return is 6.09 %\n"
     ]
    }
   ],
   "source": [
    "#Usually the U.S Treasury bonds coupons are payed twice a year, semiannualy\n",
    "t = 1  #years to mature\n",
    "n = 2  #periods of payment\n",
    "F = 1000  #face value\n",
    "C = 0.10*F/2  #coupon value\n",
    "y = 0.06\n",
    "\n",
    "print(\"The cashflow is: $\", C ,\" and $\",C + F )\n",
    "\n",
    "def pv_bond(C,F,y,n):\n",
    "    pv = 0\n",
    "    CF = 0\n",
    "    for i in np.arange(1,t*n + 1):\n",
    "        if i< (t*n):\n",
    "            CF = C*(1/(1+y/n))**i\n",
    "        else:\n",
    "             CF = (C+F)*(1/(1+y/n))**i#last cashflow\n",
    "        \n",
    "        pv += CF\n",
    "    \n",
    "    return pv\n",
    "\n",
    "pv_treasury_bond = pv_bond(C,F,y,n)\n",
    "\n",
    "print(\"The present value of the treasury bond is: $\", f\"{pv_treasury_bond:,.2f}\")\n",
    "print(\"The return i earn every 6 months is \", (y/2)*100 , \"%\")\n",
    "print(\"The bond effective annual rate of return is\", f\"{((1+y/2)**n -1)*100:,.2f}\",\"%\")"
   ]
  },
  {
   "cell_type": "markdown",
   "id": "6af8d03c-61e8-47a5-a575-86316aa42936",
   "metadata": {},
   "source": [
    "# 3.3 Self-Test\n",
    "a. Which does not change during the bond’s life—the coupon or the yield?  \n",
    "b. If the yield rises, does the bond price rise or fall?"
   ]
  },
  {
   "cell_type": "markdown",
   "id": "a36df930-2850-452f-a98d-1d28c3fa7075",
   "metadata": {},
   "source": [
    "a. The coupon does not change during the bond's life.  \n",
    "b. If the yield rises the price bond falls."
   ]
  },
  {
   "cell_type": "markdown",
   "id": "4d04ac06-5b9a-402e-aecd-4b8dab058e23",
   "metadata": {},
   "source": [
    "# 3.4 Self-Test\n",
    "If yields decline, which bond is likely to appreciate the most:  \n",
    "a. A 20-year 8% bond or a 5-year 8% bond?  \n",
    "b. A 20-year 8% bond or a 20-year 2% bond?  "
   ]
  },
  {
   "cell_type": "markdown",
   "id": "f844dada-261f-4845-ac6c-057d76970028",
   "metadata": {},
   "source": [
    "a. The 20-year 8% bond has a larger duration so the yield decline has a larger effect on the price\n",
    "\n",
    "b. The 20-year 2% bond has a larger duration so is likely to appreciate the most."
   ]
  },
  {
   "cell_type": "markdown",
   "id": "8298fb43-bc91-43df-baec-08cd8f003763",
   "metadata": {},
   "source": [
    "# 3.5 Self-Test  \n",
    "Suppose that you used the 3.66% yield, calculated earlier, to value a two-year 5% bond.  \n",
    "a. Would you get the correct answer? If not, why not?  \n",
    "b. Do you think that you would over- or under-value the bond?  "
   ]
  },
  {
   "cell_type": "markdown",
   "id": "f6c97884-0e08-4001-9a08-1a1d7e737dd3",
   "metadata": {},
   "source": [
    "a.- No, you won’t get the correct value, because proper valuation requires discounting each cash flow at its spot rate.  \n",
    "b.- If the curve is normal (upward sloping, as is typical), you would overvalue the bond."
   ]
  },
  {
   "cell_type": "markdown",
   "id": "b9090996-2348-447f-9e85-3ad3bff0fd0e",
   "metadata": {},
   "source": [
    "# 3.6 Self-Test\n",
    "Suppose that the 20-year discount factor is 0.3769. What is the 20-year spot rate, r20?\n"
   ]
  },
  {
   "cell_type": "code",
   "execution_count": 4,
   "id": "0528e957-a442-4003-a88d-58e314294bbc",
   "metadata": {},
   "outputs": [
    {
     "name": "stdout",
     "output_type": "stream",
     "text": [
      "The 20-year spot rate, r20 is : 0.05\n"
     ]
    }
   ],
   "source": [
    "DF_20 = 0.3769\n",
    "\n",
    "r20 = (1/DF_20)**(1/20) - 1\n",
    "\n",
    "print(f\"The 20-year spot rate, r20 is : {r20:,.2f}\")"
   ]
  },
  {
   "cell_type": "markdown",
   "id": "6df81b33-098f-4ee4-b244-7c30e852417d",
   "metadata": {},
   "source": [
    "# 1. Bond prices and yields (S3.1) \n",
    "A 10-year bond is issued with a face value of \\\\$1,000, paying interest of \\\\$60 a year. If interest rates increase shortly after the bond is issued, what happens\n",
    "to the bond’s  \n",
    "a. Coupon rate?  \n",
    "b. Price?  \n",
    "c. Yield to maturity?  "
   ]
  },
  {
   "cell_type": "code",
   "execution_count": 2,
   "id": "72f6e727-150f-4e13-9b01-7364ca29f352",
   "metadata": {},
   "outputs": [
    {
     "name": "stdout",
     "output_type": "stream",
     "text": [
      "1000.0\n"
     ]
    }
   ],
   "source": [
    "#a. The coupon rate stayes the same\n",
    "#b. The price of the bond goes down \n",
    "#c. The yield to maturity goes up "
   ]
  },
  {
   "cell_type": "markdown",
   "id": "e6eb2f72-6981-4ee5-bad8-a5785133ec6d",
   "metadata": {},
   "source": [
    "# 2. Bond prices and yields (S3.1)\n",
    "The following statements are true. Explain why.  \n",
    "a. If a bond’s coupon rate is higher than its yield to maturity, then the bond will sell for more\n",
    "than face value.  \n",
    "b. If a bond’s coupon rate is lower than its yield to maturity, then the bond’s price will\n",
    "increase over its remaining maturity.  "
   ]
  },
  {
   "cell_type": "code",
   "execution_count": 4,
   "id": "42cfa88a-91d6-4ca2-8a91-6d8ec80bfb13",
   "metadata": {},
   "outputs": [],
   "source": [
    "#a. TRUE - If the coupon rate is higher than the yield to maturity, then the bond will sell for more than the face value \n",
    "#because investors are paying to receive larger coupon payments compared to the lower yield in the market. \n",
    "\n",
    "#b. FALSE - If a bond's coupon rate is lower than its yield to maturity, then the bond's price will increase over it ISN'T remaining \n",
    "#maturity because the bond just increases toward par value becasuse i'll be paid back that amount at maturity and no more than that"
   ]
  },
  {
   "cell_type": "markdown",
   "id": "e2135d9b-986e-4a60-bfbe-3389e605538f",
   "metadata": {},
   "source": [
    "# 3. Bond prices and yields (S3.1) \n",
    "Construct some simple examples to illustrate your answers to the following:  \n",
    "a. If interest rates rise, do bond prices rise or fall?  \n",
    "b. If the bond yield to maturity is greater than the coupon, is the price of the bond greater or\n",
    "less than 100?  \n",
    "c. If the price of a bond exceeds 100, is the yield to maturity greater or less than the coupon?  \n",
    "d. Do high-coupon bonds sell at higher or lower prices than low-coupon bonds?  \n",
    "e. If interest rates change, do the prices of high-coupon bonds change proportionately more\n",
    "than that of low-coupon bonds?  "
   ]
  },
  {
   "cell_type": "code",
   "execution_count": 35,
   "id": "8b7b597d-92e8-4971-a60d-5e9fe6427550",
   "metadata": {},
   "outputs": [
    {
     "name": "stdout",
     "output_type": "stream",
     "text": [
      "a. If the interest rates rises then the bond price fall \n",
      "b. If the yield to maturity is greater than the coupon then the bond price is at discount so it is less than 100% of the face value\n",
      "c. If the price of a bond exceeds a 100 then the yield to maturity is less than the coupon\n",
      "d. High-coupon bonds sell at higher prices than low-coupon bonds\n",
      "e. Yes. the prices of high-coupon bonds change proportionately more than that of low-coupon bonds\n"
     ]
    },
    {
     "data": {
      "image/png": "[encoded data removed]",
      "text/plain": [
       "<Figure size 400x300 with 1 Axes>"
      ]
     },
     "metadata": {},
     "output_type": "display_data"
    }
   ],
   "source": [
    "face_value = 1000 #(1 , 1)\n",
    "ytm = np.array([0.02,0.03,0.04, 0.05,0.07,0.1]) #(4, 1)\n",
    "i = np.arange(1,len(ytm)+1) #(4, 1)\n",
    "coupon_rate = 0.05\n",
    "maturity_years = 3\n",
    "\n",
    "#suma vectorizada\n",
    "pv_coupons = np.sum(coupon_rate*face_value*(1/(1+ytm)**i))\n",
    "\n",
    "pv_facevalue = face_value*(1/(1+ytm)**i[-1])\n",
    "\n",
    "present_value_bond = pv_coupons + pv_facevalue\n",
    "\n",
    "plt.figure(figsize=(4,3))\n",
    "plt.plot(ytm*100, present_value_bond, color ='blue',lw=2)\n",
    "plt.xlabel(\"Yield to Maturity (%)\")\n",
    "plt.ylabel(\"Bond's price ($)\")\n",
    "plt.title(\"Bond price vs Yield to Maturity\")\n",
    "plt.grid(True)\n",
    "\n",
    "\n",
    "print(\"a. If the interest rates rises then the bond price fall \")\n",
    "print(\"b. If the yield to maturity is greater than the coupon then the bond price sells at discount (less than 100% of the face value)\")\n",
    "print(\"c. If the price of a bond exceeds a 100%, then the yield to maturity is less than the coupon rate\")\n",
    "print(\"d. Given the same maturity and YTM, high-coupon bonds are priced above low-coupon bonds\")\n",
    "print(\"e. No. The prices of low-coupon bonds change proportionately more than those of high-coupon bonds.\")"
   ]
  },
  {
   "cell_type": "markdown",
   "id": "8f5bb509-5fea-4f3e-b57b-734b0d98e5e4",
   "metadata": {},
   "source": [
    "# 4. Bond prices and yields (S3.1) \n",
    "A 10-year German government bond (bund) has a face value of €100 and a coupon rate of 5% paid annually. Assume that the interest rate (in euros) is\n",
    "equal to 6% per year. What is the bond’s PV?\n"
   ]
  },
  {
   "cell_type": "code",
   "execution_count": 54,
   "id": "77f3b062-9959-4f08-b8f7-2dd9f197ea0c",
   "metadata": {},
   "outputs": [
    {
     "name": "stdout",
     "output_type": "stream",
     "text": [
      "The bond's PV is : €92.64\n",
      "(closed-form formula)The bond's PV is : €92.64\n"
     ]
    }
   ],
   "source": [
    "face_value = 100\n",
    "coupon_rate = 0.05\n",
    "coupon_frequency = 1\n",
    "yield_to_maturity = 0.06\n",
    "maturity_years = 10\n",
    "#market_price = \n",
    "\n",
    "\n",
    "############################# manual formula ##############################################\n",
    "#cashflows\n",
    "coupon = face_value*coupon_rate\n",
    "i = np.arange(1,maturity_years + 1)  #array for years of maturity\n",
    "discount_factors = 1 / (1 + yield_to_maturity) ** i #discount factors\n",
    "\n",
    "#PV odf the coupons + PV face value\n",
    "pv_coupons = np.sum(coupon*discount_factors)\n",
    "pv_facevalue =  face_value*(discount_factors[-1])\n",
    "pv_10year_bond = pv_coupons + pv_facevalue\n",
    "\n",
    "print(f\"The bond's PV is : €{pv_10year_bond:,.2f}\")\n",
    "\n",
    "\n",
    "############################ closed form formula###########################################\n",
    "\n",
    "#pv of the annuity of coupons\n",
    "pv_coupons_closed = coupon*(1/ytm - 1/(ytm*(ytm+1)**maturity_years))\n",
    "pv_facevalue_closed = face_value*(1/(1+ytm)**maturity_years)\n",
    "pv_10year_bond_closed = pv_coupons_closed + pv_facevalue_closed\n",
    "\n",
    "print(f\"(closed-form formula)The bond's PV is : €{pv_10year_bond:,.2f}\")"
   ]
  },
  {
   "cell_type": "markdown",
   "id": "16c760d5-6c3f-420f-b0b4-a43795712679",
   "metadata": {},
   "source": [
    "# 5. Bond prices and yields (S3.1)\n",
    "In December 2020, Treasury $4 \\tfrac{1}{4}\\%$  of 2040 offered a semiannually compounded yield to maturity of 1.32%. Recognizing that coupons are paid semiannually, calculate the bond’s price."
   ]
  },
  {
   "cell_type": "code",
   "execution_count": 71,
   "id": "13b5cf4d-2b8c-4fe6-a2bf-03c2efa352c3",
   "metadata": {},
   "outputs": [
    {
     "name": "stdout",
     "output_type": "stream",
     "text": [
      "The bond's price is $151.35\n"
     ]
    }
   ],
   "source": [
    "coupon_rate = 0.0425\n",
    "coupon_frequency = 2\n",
    "yield_to_maturity = 0.0132\n",
    "maturity_years = 20\n",
    "face_value = 100\n",
    "\n",
    "########################### manual form ############################\n",
    "\n",
    "coupon_per_period = coupon_rate * face_value/coupon_frequency\n",
    "i = np.arange(1 , maturity_years*coupon_frequency + 1)\n",
    "discount_factors = 1/( 1 + yield_to_maturity/coupon_frequency)**i\n",
    "\n",
    "#pv of the stream of coupons + pv facevalue\n",
    "pv_coupons = np.sum(coupon_per_period*discount_factors)\n",
    "pv_facevalue = face_value*(1/(1+ yield_to_maturity/coupon_frequency)**(maturity_years*coupon_frequency))\n",
    "pv_bond = pv_coupons + pv_facevalue\n",
    "print(f\"The bond's price is ${pv_bond:,.2f}\")\n",
    "\n",
    "########################### manual form ############################\n"
   ]
  },
  {
   "cell_type": "code",
   "execution_count": null,
   "id": "31090178-3a7e-473d-a9ca-2771e8419431",
   "metadata": {},
   "outputs": [],
   "source": []
  },
  {
   "cell_type": "code",
   "execution_count": null,
   "id": "6b52af26-e665-412a-b253-db1f2d5f00d3",
   "metadata": {},
   "outputs": [],
   "source": []
  }
 ],
 "metadata": {
  "kernelspec": {
   "display_name": "Python 3 (ipykernel)",
   "language": "python",
   "name": "python3"
  },
  "language_info": {
   "codemirror_mode": {
    "name": "ipython",
    "version": 3
   },
   "file_extension": ".py",
   "mimetype": "text/x-python",
   "name": "python",
   "nbconvert_exporter": "python",
   "pygments_lexer": "ipython3",
   "version": "3.10.18"
  }
 },
 "nbformat": 4,
 "nbformat_minor": 5
}
