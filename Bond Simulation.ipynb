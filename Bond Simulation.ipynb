{
 "cells": [
  {
   "cell_type": "code",
   "execution_count": 9,
   "id": "8616535d-abcb-4495-a9c9-52610c1a83f6",
   "metadata": {},
   "outputs": [
    {
     "name": "stdout",
     "output_type": "stream",
     "text": [
      "Última fecha bono 10Y: 2025-09-04, tasa: 4.17%\n",
      "Última fecha Fed Rate: 2025-08-01, tasa: 4.33%\n",
      "Precio estimado del T-Note 10Y: $986.21\n"
     ]
    }
   ],
   "source": [
    "import requests\n",
    "from datetime import datetime\n",
    "\n",
    "# ---------------------------\n",
    "# Configura tu API key de FRED\n",
    "# ---------------------------\n",
    "api_key = 'b9048186e6bc3ab1276d01abe0c1bc33'\n",
    "\n",
    "# URLs y parámetros para la API JSON\n",
    "series = {\n",
    "    \"bono_10y\": \"DGS10\",\n",
    "    \"fed_rate\": \"FEDFUNDS\"\n",
    "}\n",
    "\n",
    "def obtener_ultima_tasa(series_id):\n",
    "    url = \"https://api.stlouisfed.org/fred/series/observations\"\n",
    "    params = {\n",
    "        \"series_id\": series_id,\n",
    "        \"api_key\": api_key,\n",
    "        \"file_type\": \"json\"\n",
    "    }\n",
    "    response = requests.get(url, params=params)\n",
    "    data = response.json()\n",
    "    \n",
    "    # Tomar la última observación disponible\n",
    "    for obs in reversed(data['observations']):\n",
    "        if obs['value'] != '.':\n",
    "            return float(obs['value']) / 100, obs['date']  # pasar a decimal\n",
    "    return None, None\n",
    "\n",
    "# Obtener datos\n",
    "tasa_bono_10y, fecha_bono = obtener_ultima_tasa(series['bono_10y'])\n",
    "tasa_fed, fecha_fed = obtener_ultima_tasa(series['fed_rate'])\n",
    "\n",
    "print(f\"Última fecha bono 10Y: {fecha_bono}, tasa: {tasa_bono_10y*100:.2f}%\")\n",
    "print(f\"Última fecha Fed Rate: {fecha_fed}, tasa: {tasa_fed*100:.2f}%\")\n",
    "\n",
    "# ---------------------------\n",
    "# Calcular precio del bono\n",
    "# ---------------------------\n",
    "def bond_price(face_value, coupon_rate, ytm, years_to_maturity, freq=2):\n",
    "    periods = years_to_maturity * freq\n",
    "    coupon = face_value * coupon_rate / freq\n",
    "    discount_factors = [(1 + ytm / freq) ** -t for t in range(1, int(periods)+1)]\n",
    "    price = sum(coupon * d for d in discount_factors) + face_value * discount_factors[-1]\n",
    "    return price\n",
    "\n",
    "# Parámetros del bono\n",
    "face_value = 1000\n",
    "coupon_rate = 0.04\n",
    "years_to_maturity = 10\n",
    "\n",
    "precio_bono = bond_price(face_value, coupon_rate, tasa_bono_10y, years_to_maturity)\n",
    "print(f\"Precio estimado del T-Note 10Y: ${precio_bono:.2f}\")\n"
   ]
  },
  {
   "cell_type": "code",
   "execution_count": 3,
   "id": "f57d023b-19da-482a-ad65-18004f8c5106",
   "metadata": {},
   "outputs": [
    {
     "data": {
      "text/plain": [
       "200"
      ]
     },
     "execution_count": 3,
     "metadata": {},
     "output_type": "execute_result"
    }
   ],
   "source": [
    "import requests\n",
    "requests.get(\"https://www.google.com\").status_code"
   ]
  },
  {
   "cell_type": "code",
   "execution_count": null,
   "id": "6fb5fbe1-6883-4139-93f7-d9ffb5d3a095",
   "metadata": {},
   "outputs": [],
   "source": []
  }
 ],
 "metadata": {
  "kernelspec": {
   "display_name": "Python 3 (ipykernel)",
   "language": "python",
   "name": "python3"
  },
  "language_info": {
   "codemirror_mode": {
    "name": "ipython",
    "version": 3
   },
   "file_extension": ".py",
   "mimetype": "text/x-python",
   "name": "python",
   "nbconvert_exporter": "python",
   "pygments_lexer": "ipython3",
   "version": "3.10.18"
  }
 },
 "nbformat": 4,
 "nbformat_minor": 5
}
